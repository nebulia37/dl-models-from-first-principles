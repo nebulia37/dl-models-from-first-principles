{
  "nbformat": 4,
  "nbformat_minor": 0,
  "metadata": {
    "colab": {
      "provenance": [],
      "authorship_tag": "ABX9TyPF0GPMVtVJZZCcYWrEsJGI",
      "include_colab_link": true
    },
    "kernelspec": {
      "name": "python3",
      "display_name": "Python 3"
    },
    "language_info": {
      "name": "python"
    }
  },
  "cells": [
    {
      "cell_type": "markdown",
      "metadata": {
        "id": "view-in-github",
        "colab_type": "text"
      },
      "source": [
        "<a href=\"https://colab.research.google.com/github/nebulia37/dl-models-from-first-principles/blob/main/01_linear_regression_2.ipynb\" target=\"_parent\"><img src=\"https://colab.research.google.com/assets/colab-badge.svg\" alt=\"Open In Colab\"/></a>"
      ]
    },
    {
      "cell_type": "code",
      "source": [
        "!pip install -U pip setuptools wheel\n",
        "!pip install numpy>=1.26.4\n",
        "!pip install git+https://github.com/d2l-ai/d2l-en.git --no-deps\n"
      ],
      "metadata": {
        "colab": {
          "base_uri": "https://localhost:8080/"
        },
        "id": "ds3Zm5Y2FVKu",
        "outputId": "ccb13915-f094-4af1-ead8-a0a30d20b2ff"
      },
      "execution_count": 5,
      "outputs": [
        {
          "output_type": "stream",
          "name": "stdout",
          "text": [
            "Requirement already satisfied: pip in /usr/local/lib/python3.12/dist-packages (25.3)\n",
            "Requirement already satisfied: setuptools in /usr/local/lib/python3.12/dist-packages (80.9.0)\n",
            "Requirement already satisfied: wheel in /usr/local/lib/python3.12/dist-packages (0.45.1)\n",
            "Collecting git+https://github.com/d2l-ai/d2l-en.git\n",
            "  Cloning https://github.com/d2l-ai/d2l-en.git to /tmp/pip-req-build-w3_9pytm\n",
            "  Running command git clone --filter=blob:none --quiet https://github.com/d2l-ai/d2l-en.git /tmp/pip-req-build-w3_9pytm\n",
            "  Resolved https://github.com/d2l-ai/d2l-en.git to commit 23d7a5aecceee57d1292c56e90cce307f183bb0a\n",
            "  Installing build dependencies ... \u001b[?25l\u001b[?25hdone\n",
            "  Getting requirements to build wheel ... \u001b[?25l\u001b[?25hdone\n",
            "  Preparing metadata (pyproject.toml) ... \u001b[?25l\u001b[?25hdone\n",
            "Building wheels for collected packages: d2l\n",
            "  Building wheel for d2l (pyproject.toml) ... \u001b[?25l\u001b[?25hdone\n",
            "  Created wheel for d2l: filename=d2l-1.0.3-py3-none-any.whl size=111780 sha256=66119d41d1c271bdfaab6964fd00ac251d8e121ff55de52b94f427e80d0adc51\n",
            "  Stored in directory: /tmp/pip-ephem-wheel-cache-b604mk_u/wheels/d0/a6/e5/00c68a127dc2642b0b49711385669e4c3fad27e32e37b9fa5a\n",
            "Successfully built d2l\n",
            "Installing collected packages: d2l\n",
            "Successfully installed d2l-1.0.3\n"
          ]
        }
      ]
    },
    {
      "cell_type": "code",
      "source": [
        "import numpy as np\n",
        "import torch\n",
        "from torch.utils import data\n",
        "from d2l import torch as d2l"
      ],
      "metadata": {
        "id": "OaPSBbISGxlN"
      },
      "execution_count": 6,
      "outputs": []
    },
    {
      "cell_type": "code",
      "source": [
        "true_w = torch.tensor([2, -3.4])\n",
        "true_b = 4.2\n",
        "features, labels = d2l.synthetic_data(true_w, true_b, 1000)"
      ],
      "metadata": {
        "id": "PzGouPsiG2Ot"
      },
      "execution_count": 7,
      "outputs": []
    },
    {
      "cell_type": "code",
      "source": [
        "def load_array(data_arrays, batch_size, is_train=True):\n",
        "  dataset = data.TensorDataset(*data_arrays)\n",
        "  return data.DataLoader(dataset, batch_size, shuffle=is_train)\n",
        "batch_size =10\n",
        "data_iter = load_array((features, labels), batch_size)\n",
        "\n",
        "next(iter(data_iter))"
      ],
      "metadata": {
        "colab": {
          "base_uri": "https://localhost:8080/"
        },
        "id": "RnTjCeyHG2SE",
        "outputId": "72229a6c-fb5a-4f39-d6a5-3d081944a985"
      },
      "execution_count": 8,
      "outputs": [
        {
          "output_type": "execute_result",
          "data": {
            "text/plain": [
              "[tensor([[-0.2719,  1.3319],\n",
              "         [ 0.4050,  0.6555],\n",
              "         [ 0.2272,  0.7962],\n",
              "         [-2.0875,  0.2508],\n",
              "         [ 1.0992,  0.0443],\n",
              "         [ 0.5521,  0.0912],\n",
              "         [-0.1331, -1.6462],\n",
              "         [-1.8310,  0.0887],\n",
              "         [ 0.0943,  0.1569],\n",
              "         [ 1.1668, -0.2967]]),\n",
              " tensor([[-0.8626],\n",
              "         [ 2.7805],\n",
              "         [ 1.9493],\n",
              "         [-0.8260],\n",
              "         [ 6.2385],\n",
              "         [ 4.9886],\n",
              "         [ 9.5374],\n",
              "         [ 0.2400],\n",
              "         [ 3.8628],\n",
              "         [ 7.5377]])]"
            ]
          },
          "metadata": {},
          "execution_count": 8
        }
      ]
    },
    {
      "cell_type": "code",
      "source": [
        "# model\n",
        "from torch import nn\n",
        "\n",
        "net = nn.Sequential(nn.Linear(2,1))"
      ],
      "metadata": {
        "id": "91n8feNBG2U1"
      },
      "execution_count": 9,
      "outputs": []
    },
    {
      "cell_type": "code",
      "source": [
        "# initialize model parameter\n",
        "net[0].weight.data.normal_(0,0.01)\n",
        "net[0].bias.data.fill_(0)"
      ],
      "metadata": {
        "colab": {
          "base_uri": "https://localhost:8080/"
        },
        "id": "dFCtDcBiG2Xd",
        "outputId": "89a2289d-f112-40d5-9d32-d10158ef93c7"
      },
      "execution_count": 12,
      "outputs": [
        {
          "output_type": "execute_result",
          "data": {
            "text/plain": [
              "tensor([0.])"
            ]
          },
          "metadata": {},
          "execution_count": 12
        }
      ]
    },
    {
      "cell_type": "code",
      "source": [
        "# MSE loss\n",
        "loss = nn.MSELoss()"
      ],
      "metadata": {
        "id": "T_DybS8kIOQy"
      },
      "execution_count": 13,
      "outputs": []
    },
    {
      "cell_type": "code",
      "source": [
        "# SGD\n",
        "trainer = torch.optim.SGD(net.parameters(), lr = 0.03)"
      ],
      "metadata": {
        "id": "ZUKNyIP-IVwf"
      },
      "execution_count": 14,
      "outputs": []
    },
    {
      "cell_type": "code",
      "source": [
        "num_epochs = 3\n",
        "for epoch in range(num_epochs):\n",
        "  for X, y in data_iter:\n",
        "    l = loss(net(X), y) # calulate loss\n",
        "    trainer.zero_grad() # let grad be 0 before calculate\n",
        "    l.backward() # calculate grad\n",
        "    trainer.step() # update\n",
        "  l = loss(net(features), labels)\n",
        "  print(f'epoch {epoch+1}, loss {l:f}')"
      ],
      "metadata": {
        "colab": {
          "base_uri": "https://localhost:8080/"
        },
        "id": "4NFkGgUJIb0n",
        "outputId": "07042a47-bae9-4a5c-adb5-bde12730d1b6"
      },
      "execution_count": 15,
      "outputs": [
        {
          "output_type": "stream",
          "name": "stdout",
          "text": [
            "epoch 1, loss 0.000270\n",
            "epoch 2, loss 0.000100\n",
            "epoch 3, loss 0.000099\n"
          ]
        }
      ]
    }
  ]
}